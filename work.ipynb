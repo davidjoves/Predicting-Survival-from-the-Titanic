{
 "cells": [
  {
   "cell_type": "markdown",
   "metadata": {},
   "source": [
    "# Predicting Survival from the Titanic \n",
    "___\n"
   ]
  },
  {
   "cell_type": "markdown",
   "metadata": {},
   "source": [
    "My attempt to learning and applying data science and machine learning principles to the Titanic: Machine Learning from Disaster dataset!"
   ]
  },
  {
   "cell_type": "markdown",
   "metadata": {},
   "source": [
    "#### Contents\n",
    "\n",
    "1. Imports\n",
    "2. Reading and Exploring Data\n",
    "3. Analyzing Data\n",
    "4. Visualizing Data \n",
    "5. Cleaning Data\n",
    "6. Experimenting with Models \n",
    "7. Conclusion"
   ]
  },
  {
   "cell_type": "markdown",
   "metadata": {},
   "source": [
    "___"
   ]
  },
  {
   "cell_type": "markdown",
   "metadata": {},
   "source": [
    "# 1: Imports\n",
    "These are the libraries we are using for the dataset"
   ]
  },
  {
   "cell_type": "code",
   "execution_count": 2,
   "metadata": {},
   "outputs": [],
   "source": [
    "# Data visualization\n",
    "import matplotlib.pyplot as plt \n",
    "\n",
    "# Data manipulation / analysis \n",
    "import numpy as np \n",
    "import pandas as pd"
   ]
  },
  {
   "cell_type": "markdown",
   "metadata": {},
   "source": [
    "___"
   ]
  },
  {
   "cell_type": "markdown",
   "metadata": {},
   "source": [
    "# 2: Reading and Exploring the Dataset\n",
    "Now we want to explore the dataset using the libraries we imported. We will first read the dataset in."
   ]
  },
  {
   "cell_type": "code",
   "execution_count": 3,
   "metadata": {},
   "outputs": [],
   "source": [
    "train = pd.read_csv(\"./dataset/train.csv\")\n",
    "test = pd.read_csv(\"./dataset/test.csv\")"
   ]
  },
  {
   "cell_type": "markdown",
   "metadata": {},
   "source": [
    "Now lets exlpore it. We will look only into the training data ```train```"
   ]
  },
  {
   "cell_type": "code",
   "execution_count": 4,
   "metadata": {},
   "outputs": [
    {
     "data": {
      "text/plain": [
       "(891, 12)"
      ]
     },
     "execution_count": 4,
     "metadata": {},
     "output_type": "execute_result"
    }
   ],
   "source": [
    "def get_shape(dataset: pd.DataFrame):\n",
    "    return dataset.shape\n",
    "\n",
    "get_shape(train)"
   ]
  },
  {
   "cell_type": "markdown",
   "metadata": {},
   "source": [
    "This reads \" There are ___891___ datapoints, and each of them have ___12___ features being logged."
   ]
  },
  {
   "cell_type": "code",
   "execution_count": 5,
   "metadata": {},
   "outputs": [
    {
     "data": {
      "text/plain": [
       "['PassengerId',\n",
       " 'Survived',\n",
       " 'Pclass',\n",
       " 'Name',\n",
       " 'Sex',\n",
       " 'Age',\n",
       " 'SibSp',\n",
       " 'Parch',\n",
       " 'Ticket',\n",
       " 'Fare',\n",
       " 'Cabin',\n",
       " 'Embarked']"
      ]
     },
     "execution_count": 5,
     "metadata": {},
     "output_type": "execute_result"
    }
   ],
   "source": [
    "def get_features(dataset: pd.DataFrame): \n",
    "    return list(dataset.columns)\n",
    "\n",
    "get_features(train)"
   ]
  },
  {
   "cell_type": "markdown",
   "metadata": {},
   "source": [
    "These are the 12 features. Now we want to see what kind of data each represent (Categorical or Numerical)"
   ]
  },
  {
   "cell_type": "code",
   "execution_count": 6,
   "metadata": {},
   "outputs": [
    {
     "data": {
      "text/html": [
       "<div>\n",
       "<style scoped>\n",
       "    .dataframe tbody tr th:only-of-type {\n",
       "        vertical-align: middle;\n",
       "    }\n",
       "\n",
       "    .dataframe tbody tr th {\n",
       "        vertical-align: top;\n",
       "    }\n",
       "\n",
       "    .dataframe thead th {\n",
       "        text-align: right;\n",
       "    }\n",
       "</style>\n",
       "<table border=\"1\" class=\"dataframe\">\n",
       "  <thead>\n",
       "    <tr style=\"text-align: right;\">\n",
       "      <th></th>\n",
       "      <th>PassengerId</th>\n",
       "      <th>Survived</th>\n",
       "      <th>Pclass</th>\n",
       "      <th>Name</th>\n",
       "      <th>Sex</th>\n",
       "      <th>Age</th>\n",
       "      <th>SibSp</th>\n",
       "      <th>Parch</th>\n",
       "      <th>Ticket</th>\n",
       "      <th>Fare</th>\n",
       "      <th>Cabin</th>\n",
       "      <th>Embarked</th>\n",
       "    </tr>\n",
       "  </thead>\n",
       "  <tbody>\n",
       "    <tr>\n",
       "      <th>0</th>\n",
       "      <td>1</td>\n",
       "      <td>0</td>\n",
       "      <td>3</td>\n",
       "      <td>Braund, Mr. Owen Harris</td>\n",
       "      <td>male</td>\n",
       "      <td>22.0</td>\n",
       "      <td>1</td>\n",
       "      <td>0</td>\n",
       "      <td>A/5 21171</td>\n",
       "      <td>7.2500</td>\n",
       "      <td>NaN</td>\n",
       "      <td>S</td>\n",
       "    </tr>\n",
       "    <tr>\n",
       "      <th>1</th>\n",
       "      <td>2</td>\n",
       "      <td>1</td>\n",
       "      <td>1</td>\n",
       "      <td>Cumings, Mrs. John Bradley (Florence Briggs Th...</td>\n",
       "      <td>female</td>\n",
       "      <td>38.0</td>\n",
       "      <td>1</td>\n",
       "      <td>0</td>\n",
       "      <td>PC 17599</td>\n",
       "      <td>71.2833</td>\n",
       "      <td>C85</td>\n",
       "      <td>C</td>\n",
       "    </tr>\n",
       "    <tr>\n",
       "      <th>2</th>\n",
       "      <td>3</td>\n",
       "      <td>1</td>\n",
       "      <td>3</td>\n",
       "      <td>Heikkinen, Miss. Laina</td>\n",
       "      <td>female</td>\n",
       "      <td>26.0</td>\n",
       "      <td>0</td>\n",
       "      <td>0</td>\n",
       "      <td>STON/O2. 3101282</td>\n",
       "      <td>7.9250</td>\n",
       "      <td>NaN</td>\n",
       "      <td>S</td>\n",
       "    </tr>\n",
       "    <tr>\n",
       "      <th>3</th>\n",
       "      <td>4</td>\n",
       "      <td>1</td>\n",
       "      <td>1</td>\n",
       "      <td>Futrelle, Mrs. Jacques Heath (Lily May Peel)</td>\n",
       "      <td>female</td>\n",
       "      <td>35.0</td>\n",
       "      <td>1</td>\n",
       "      <td>0</td>\n",
       "      <td>113803</td>\n",
       "      <td>53.1000</td>\n",
       "      <td>C123</td>\n",
       "      <td>S</td>\n",
       "    </tr>\n",
       "    <tr>\n",
       "      <th>4</th>\n",
       "      <td>5</td>\n",
       "      <td>0</td>\n",
       "      <td>3</td>\n",
       "      <td>Allen, Mr. William Henry</td>\n",
       "      <td>male</td>\n",
       "      <td>35.0</td>\n",
       "      <td>0</td>\n",
       "      <td>0</td>\n",
       "      <td>373450</td>\n",
       "      <td>8.0500</td>\n",
       "      <td>NaN</td>\n",
       "      <td>S</td>\n",
       "    </tr>\n",
       "  </tbody>\n",
       "</table>\n",
       "</div>"
      ],
      "text/plain": [
       "   PassengerId  Survived  Pclass  \\\n",
       "0            1         0       3   \n",
       "1            2         1       1   \n",
       "2            3         1       3   \n",
       "3            4         1       1   \n",
       "4            5         0       3   \n",
       "\n",
       "                                                Name     Sex   Age  SibSp  \\\n",
       "0                            Braund, Mr. Owen Harris    male  22.0      1   \n",
       "1  Cumings, Mrs. John Bradley (Florence Briggs Th...  female  38.0      1   \n",
       "2                             Heikkinen, Miss. Laina  female  26.0      0   \n",
       "3       Futrelle, Mrs. Jacques Heath (Lily May Peel)  female  35.0      1   \n",
       "4                           Allen, Mr. William Henry    male  35.0      0   \n",
       "\n",
       "   Parch            Ticket     Fare Cabin Embarked  \n",
       "0      0         A/5 21171   7.2500   NaN        S  \n",
       "1      0          PC 17599  71.2833   C85        C  \n",
       "2      0  STON/O2. 3101282   7.9250   NaN        S  \n",
       "3      0            113803  53.1000  C123        S  \n",
       "4      0            373450   8.0500   NaN        S  "
      ]
     },
     "execution_count": 6,
     "metadata": {},
     "output_type": "execute_result"
    }
   ],
   "source": [
    "def get_head(dataset: pd.DataFrame, count: int):\n",
    "    return dataset.head(count)\n",
    "\n",
    "get_head(train, 5) "
   ]
  },
  {
   "cell_type": "markdown",
   "metadata": {},
   "source": [
    "Looks like we can deduce the data from the first 5 Rows as the following:\n",
    "\n",
    "___Categorical Data:___ ```Name```, ```Sex,``` ```Ticket```, ```Cabin```, ```Embarked```\n",
    "\n",
    "___Numerical Data:___ ```PassengerID```, ```Survived```, ```Pclass```, ```Age```, ```SibSp```, ```Parch```, ```Fare```"
   ]
  },
  {
   "cell_type": "code",
   "execution_count": 7,
   "metadata": {},
   "outputs": [
    {
     "data": {
      "text/plain": [
       "PassengerId      int64\n",
       "Survived         int64\n",
       "Pclass           int64\n",
       "Name            object\n",
       "Sex             object\n",
       "Age            float64\n",
       "SibSp            int64\n",
       "Parch            int64\n",
       "Ticket          object\n",
       "Fare           float64\n",
       "Cabin           object\n",
       "Embarked        object\n",
       "dtype: object"
      ]
     },
     "execution_count": 7,
     "metadata": {},
     "output_type": "execute_result"
    }
   ],
   "source": [
    "def get_dtypes(dataset: pd.DataFrame): \n",
    "    return dataset.dtypes\n",
    "\n",
    "get_dtypes(train)"
   ]
  },
  {
   "cell_type": "markdown",
   "metadata": {},
   "source": [
    "These are the datatypes of each feature "
   ]
  },
  {
   "cell_type": "code",
   "execution_count": 8,
   "metadata": {},
   "outputs": [
    {
     "data": {
      "text/plain": [
       "PassengerId    891\n",
       "Survived       891\n",
       "Pclass         891\n",
       "Name           891\n",
       "Sex            891\n",
       "Age            714\n",
       "SibSp          891\n",
       "Parch          891\n",
       "Ticket         891\n",
       "Fare           891\n",
       "Cabin          204\n",
       "Embarked       889\n",
       "dtype: int64"
      ]
     },
     "execution_count": 8,
     "metadata": {},
     "output_type": "execute_result"
    }
   ],
   "source": [
    "def get_count(dataset: pd.DataFrame): \n",
    "    return dataset.count()\n",
    "\n",
    "get_count(train)"
   ]
  },
  {
   "cell_type": "markdown",
   "metadata": {},
   "source": [
    "These are the number of inputs each feature contains. \n",
    "\n",
    "___Important notes___: \n",
    "- Age is missing some values \n",
    "- Cabin is missing lots of values \n",
    "- Embarked is missing very little \n",
    "\n",
    "This might lead us for us to fill and drop columns when thinking about our model, but we will do this later on.\n",
    "___"
   ]
  },
  {
   "cell_type": "markdown",
   "metadata": {},
   "source": [
    "# 3: Analyzing Data\n",
    "We want to further look into the dataset."
   ]
  },
  {
   "cell_type": "code",
   "execution_count": 13,
   "metadata": {},
   "outputs": [
    {
     "data": {
      "text/html": [
       "<div>\n",
       "<style scoped>\n",
       "    .dataframe tbody tr th:only-of-type {\n",
       "        vertical-align: middle;\n",
       "    }\n",
       "\n",
       "    .dataframe tbody tr th {\n",
       "        vertical-align: top;\n",
       "    }\n",
       "\n",
       "    .dataframe thead th {\n",
       "        text-align: right;\n",
       "    }\n",
       "</style>\n",
       "<table border=\"1\" class=\"dataframe\">\n",
       "  <thead>\n",
       "    <tr style=\"text-align: right;\">\n",
       "      <th></th>\n",
       "      <th>PassengerId</th>\n",
       "      <th>Survived</th>\n",
       "      <th>Pclass</th>\n",
       "      <th>Name</th>\n",
       "      <th>Sex</th>\n",
       "      <th>Age</th>\n",
       "      <th>SibSp</th>\n",
       "      <th>Parch</th>\n",
       "      <th>Ticket</th>\n",
       "      <th>Fare</th>\n",
       "      <th>Cabin</th>\n",
       "      <th>Embarked</th>\n",
       "    </tr>\n",
       "  </thead>\n",
       "  <tbody>\n",
       "    <tr>\n",
       "      <th>count</th>\n",
       "      <td>891.000000</td>\n",
       "      <td>891.000000</td>\n",
       "      <td>891.000000</td>\n",
       "      <td>891</td>\n",
       "      <td>891</td>\n",
       "      <td>714.000000</td>\n",
       "      <td>891.000000</td>\n",
       "      <td>891.000000</td>\n",
       "      <td>891</td>\n",
       "      <td>891.000000</td>\n",
       "      <td>204</td>\n",
       "      <td>889</td>\n",
       "    </tr>\n",
       "    <tr>\n",
       "      <th>unique</th>\n",
       "      <td>NaN</td>\n",
       "      <td>NaN</td>\n",
       "      <td>NaN</td>\n",
       "      <td>891</td>\n",
       "      <td>2</td>\n",
       "      <td>NaN</td>\n",
       "      <td>NaN</td>\n",
       "      <td>NaN</td>\n",
       "      <td>681</td>\n",
       "      <td>NaN</td>\n",
       "      <td>147</td>\n",
       "      <td>3</td>\n",
       "    </tr>\n",
       "    <tr>\n",
       "      <th>top</th>\n",
       "      <td>NaN</td>\n",
       "      <td>NaN</td>\n",
       "      <td>NaN</td>\n",
       "      <td>Braund, Mr. Owen Harris</td>\n",
       "      <td>male</td>\n",
       "      <td>NaN</td>\n",
       "      <td>NaN</td>\n",
       "      <td>NaN</td>\n",
       "      <td>347082</td>\n",
       "      <td>NaN</td>\n",
       "      <td>B96 B98</td>\n",
       "      <td>S</td>\n",
       "    </tr>\n",
       "    <tr>\n",
       "      <th>freq</th>\n",
       "      <td>NaN</td>\n",
       "      <td>NaN</td>\n",
       "      <td>NaN</td>\n",
       "      <td>1</td>\n",
       "      <td>577</td>\n",
       "      <td>NaN</td>\n",
       "      <td>NaN</td>\n",
       "      <td>NaN</td>\n",
       "      <td>7</td>\n",
       "      <td>NaN</td>\n",
       "      <td>4</td>\n",
       "      <td>644</td>\n",
       "    </tr>\n",
       "    <tr>\n",
       "      <th>mean</th>\n",
       "      <td>446.000000</td>\n",
       "      <td>0.383838</td>\n",
       "      <td>2.308642</td>\n",
       "      <td>NaN</td>\n",
       "      <td>NaN</td>\n",
       "      <td>29.699118</td>\n",
       "      <td>0.523008</td>\n",
       "      <td>0.381594</td>\n",
       "      <td>NaN</td>\n",
       "      <td>32.204208</td>\n",
       "      <td>NaN</td>\n",
       "      <td>NaN</td>\n",
       "    </tr>\n",
       "    <tr>\n",
       "      <th>std</th>\n",
       "      <td>257.353842</td>\n",
       "      <td>0.486592</td>\n",
       "      <td>0.836071</td>\n",
       "      <td>NaN</td>\n",
       "      <td>NaN</td>\n",
       "      <td>14.526497</td>\n",
       "      <td>1.102743</td>\n",
       "      <td>0.806057</td>\n",
       "      <td>NaN</td>\n",
       "      <td>49.693429</td>\n",
       "      <td>NaN</td>\n",
       "      <td>NaN</td>\n",
       "    </tr>\n",
       "    <tr>\n",
       "      <th>min</th>\n",
       "      <td>1.000000</td>\n",
       "      <td>0.000000</td>\n",
       "      <td>1.000000</td>\n",
       "      <td>NaN</td>\n",
       "      <td>NaN</td>\n",
       "      <td>0.420000</td>\n",
       "      <td>0.000000</td>\n",
       "      <td>0.000000</td>\n",
       "      <td>NaN</td>\n",
       "      <td>0.000000</td>\n",
       "      <td>NaN</td>\n",
       "      <td>NaN</td>\n",
       "    </tr>\n",
       "    <tr>\n",
       "      <th>25%</th>\n",
       "      <td>223.500000</td>\n",
       "      <td>0.000000</td>\n",
       "      <td>2.000000</td>\n",
       "      <td>NaN</td>\n",
       "      <td>NaN</td>\n",
       "      <td>20.125000</td>\n",
       "      <td>0.000000</td>\n",
       "      <td>0.000000</td>\n",
       "      <td>NaN</td>\n",
       "      <td>7.910400</td>\n",
       "      <td>NaN</td>\n",
       "      <td>NaN</td>\n",
       "    </tr>\n",
       "    <tr>\n",
       "      <th>50%</th>\n",
       "      <td>446.000000</td>\n",
       "      <td>0.000000</td>\n",
       "      <td>3.000000</td>\n",
       "      <td>NaN</td>\n",
       "      <td>NaN</td>\n",
       "      <td>28.000000</td>\n",
       "      <td>0.000000</td>\n",
       "      <td>0.000000</td>\n",
       "      <td>NaN</td>\n",
       "      <td>14.454200</td>\n",
       "      <td>NaN</td>\n",
       "      <td>NaN</td>\n",
       "    </tr>\n",
       "    <tr>\n",
       "      <th>75%</th>\n",
       "      <td>668.500000</td>\n",
       "      <td>1.000000</td>\n",
       "      <td>3.000000</td>\n",
       "      <td>NaN</td>\n",
       "      <td>NaN</td>\n",
       "      <td>38.000000</td>\n",
       "      <td>1.000000</td>\n",
       "      <td>0.000000</td>\n",
       "      <td>NaN</td>\n",
       "      <td>31.000000</td>\n",
       "      <td>NaN</td>\n",
       "      <td>NaN</td>\n",
       "    </tr>\n",
       "    <tr>\n",
       "      <th>max</th>\n",
       "      <td>891.000000</td>\n",
       "      <td>1.000000</td>\n",
       "      <td>3.000000</td>\n",
       "      <td>NaN</td>\n",
       "      <td>NaN</td>\n",
       "      <td>80.000000</td>\n",
       "      <td>8.000000</td>\n",
       "      <td>6.000000</td>\n",
       "      <td>NaN</td>\n",
       "      <td>512.329200</td>\n",
       "      <td>NaN</td>\n",
       "      <td>NaN</td>\n",
       "    </tr>\n",
       "  </tbody>\n",
       "</table>\n",
       "</div>"
      ],
      "text/plain": [
       "        PassengerId    Survived      Pclass                     Name   Sex  \\\n",
       "count    891.000000  891.000000  891.000000                      891   891   \n",
       "unique          NaN         NaN         NaN                      891     2   \n",
       "top             NaN         NaN         NaN  Braund, Mr. Owen Harris  male   \n",
       "freq            NaN         NaN         NaN                        1   577   \n",
       "mean     446.000000    0.383838    2.308642                      NaN   NaN   \n",
       "std      257.353842    0.486592    0.836071                      NaN   NaN   \n",
       "min        1.000000    0.000000    1.000000                      NaN   NaN   \n",
       "25%      223.500000    0.000000    2.000000                      NaN   NaN   \n",
       "50%      446.000000    0.000000    3.000000                      NaN   NaN   \n",
       "75%      668.500000    1.000000    3.000000                      NaN   NaN   \n",
       "max      891.000000    1.000000    3.000000                      NaN   NaN   \n",
       "\n",
       "               Age       SibSp       Parch  Ticket        Fare    Cabin  \\\n",
       "count   714.000000  891.000000  891.000000     891  891.000000      204   \n",
       "unique         NaN         NaN         NaN     681         NaN      147   \n",
       "top            NaN         NaN         NaN  347082         NaN  B96 B98   \n",
       "freq           NaN         NaN         NaN       7         NaN        4   \n",
       "mean     29.699118    0.523008    0.381594     NaN   32.204208      NaN   \n",
       "std      14.526497    1.102743    0.806057     NaN   49.693429      NaN   \n",
       "min       0.420000    0.000000    0.000000     NaN    0.000000      NaN   \n",
       "25%      20.125000    0.000000    0.000000     NaN    7.910400      NaN   \n",
       "50%      28.000000    0.000000    0.000000     NaN   14.454200      NaN   \n",
       "75%      38.000000    1.000000    0.000000     NaN   31.000000      NaN   \n",
       "max      80.000000    8.000000    6.000000     NaN  512.329200      NaN   \n",
       "\n",
       "       Embarked  \n",
       "count       889  \n",
       "unique        3  \n",
       "top           S  \n",
       "freq        644  \n",
       "mean        NaN  \n",
       "std         NaN  \n",
       "min         NaN  \n",
       "25%         NaN  \n",
       "50%         NaN  \n",
       "75%         NaN  \n",
       "max         NaN  "
      ]
     },
     "execution_count": 13,
     "metadata": {},
     "output_type": "execute_result"
    }
   ],
   "source": [
    "def describe_dataset(dataset: pd.DataFrame):\n",
    "    return dataset.describe(include='all')\n",
    "\n",
    "describe_dataset(train)\n"
   ]
  },
  {
   "cell_type": "markdown",
   "metadata": {},
   "source": [
    "___Some Observations___: \n",
    "- There were $577$ males on board the titanic, majority of passengers were those with ```Sex``` of male. \n",
    "- The _mean_ for ```Age``` is $26.69$. We might fill this in for the missing values, depending on the distribution (skewed or not)\n",
    "- Cabin have $147$ unique values, this might seem like an insignificant value for us to use for predicition, but could have a possible correlation with socieconimic class of a passenger. \n",
    "- The _mean_ for ```SibSp``` and ```Parch``` is $0.5230$ and $0.3815$, respectively. This could indicate that majority of passengers might have been traveling alone. \n",
    "- ```Ticket``` might not have any significance to survival, so we may drop it as well\n",
    "- Majority of passengers ```Embarked``` from S"
   ]
  },
  {
   "cell_type": "markdown",
   "metadata": {},
   "source": [
    "___Some Things to Check___: \n",
    "- `Pclass` might need to be further evaluated because we know there should be 3 unique labels. First class is represented as a ```1``` Middle Class is represented as a ```2``` and Lower class is represented as a ```3```\n",
    "\n",
    "- ```Cabin``` and ```Embarked``` needs further analysis to see if any useful information can be extracted \n",
    "\n",
    "- ```Age``` we have to check for skewness "
   ]
  },
  {
   "cell_type": "markdown",
   "metadata": {},
   "source": [
    "___My Predictions___ \n",
    "- Females are more likely to survive than males\n",
    "- People of higher class are more likely to surivive than those of lower class\n",
    "- Younger passengers are more likely to survive than older passengers\n",
    "- Passengers traveling alone were more likely to survive (0 values of ```Sibsp``` and ```Parch```)"
   ]
  },
  {
   "cell_type": "markdown",
   "metadata": {},
   "source": [
    "___"
   ]
  },
  {
   "cell_type": "markdown",
   "metadata": {},
   "source": [
    "# 4: Data Visualization\n",
    "Let's see if my predictions are right!"
   ]
  },
  {
   "cell_type": "markdown",
   "metadata": {},
   "source": [
    "### 4.1 Prediction 1: _Females are more likely to survive than males_"
   ]
  },
  {
   "cell_type": "code",
   "execution_count": null,
   "metadata": {},
   "outputs": [
    {
     "data": {
      "image/png": "[encoded data removed]",
      "text/plain": [
       "<Figure size 1200x500 with 3 Axes>"
      ]
     },
     "metadata": {},
     "output_type": "display_data"
    },
    {
     "name": "stdout",
     "output_type": "stream",
     "text": [
      "Percentage of passengers that are male and female \n",
      " Sex\n",
      "male      64.758698\n",
      "female    35.241302\n",
      "Name: count, dtype: float64\n",
      "Percentage of passengers that are male and female who survived \n",
      " Sex\n",
      "female    68.128655\n",
      "male      31.871345\n",
      "Name: count, dtype: float64\n",
      "Percentage of passengers that are male and female who died\n",
      " Sex\n",
      "male      85.245902\n",
      "female    14.754098\n",
      "Name: count, dtype: float64\n"
     ]
    }
   ],
   "source": [
    "def barplot_sex(dataset: pd.DataFrame): \n",
    "    passenger_sex_count = dataset[\"Sex\"].value_counts()\n",
    "    survivor_count = dataset['Sex'][dataset['Survived'] == 1].value_counts()\n",
    "    deceased_count = dataset['Sex'][dataset['Survived'] == 0].value_counts()\n",
    "\n",
    "    counts = [passenger_sex_count, survivor_count, deceased_count]\n",
    "    titles = [\"Gender Distribution (All Passengers)\", \n",
    "              \"Gender Distribution (Survivors)\", \n",
    "              \"Gender Distribution (Deceased)\"]\n",
    "\n",
    "    gender_color = {'male': 'blue', 'female': 'pink'}\n",
    "\n",
    "    fig, ax = plt.subplots(1, 3, figsize=(12, 5))\n",
    "\n",
    "    for i, count in enumerate(counts):\n",
    "        bar = ax[i].bar(count.index, count.values, color=[gender_color.get(g, 'gray') for g in count.index])\n",
    "        ax[i].set_title(titles[i])\n",
    "        ax[i].set_xlabel('Gender')\n",
    "        ax[i].set_ylabel('Count')\n",
    "        ax[i].bar_label(bar)\n",
    "\n",
    "    plt.tight_layout()\n",
    "    plt.show()\n",
    "\n",
    "    passenger_percent = (passenger_sex_count / passenger_sex_count.sum()) * 100\n",
    "    survivor_percent = (survivor_count / survivor_count.sum()) * 100\n",
    "    deceased_percent = (deceased_count / deceased_count.sum()) * 100\n",
    "\n",
    "    print(\"Percentage of passengers that are male and female \\n\", passenger_percent)\n",
    "    print(\"Percentage of passengers that are male and female who survived \\n\", survivor_percent)\n",
    "    print(\"Percentage of passengers that are male and female who died\\n\", deceased_percent)\n",
    "\n",
    "barplot_sex(train)\n"
   ]
  },
  {
   "cell_type": "markdown",
   "metadata": {},
   "source": [
    "___Observations___: \n",
    "- Plot 1 shows that the majority of passengers were male (which we already knew)\n",
    "- Plot 2 shows that the majority of passengers who survived were female\n",
    "- Plot 3 shows that the majority of passengers who died were male\n",
    "\n",
    "___Stats___:\n",
    "- $64.75$% of all passengers ($819$) were male\n",
    "- $68.12$% of all survivors ($342$) were female\n",
    "- $85.24$% of all deceased ($549$) were male"
   ]
  },
  {
   "cell_type": "markdown",
   "metadata": {},
   "source": [
    "___Back to the Prediction___ \n",
    "- The barplots suggest that my prediction is most likely correct, as we see the majority of survivors were female"
   ]
  },
  {
   "cell_type": "markdown",
   "metadata": {},
   "source": [
    "### 4.2 Prediction 2: _People of higher class are more likely to surivive than those of lower class_"
   ]
  },
  {
   "cell_type": "markdown",
   "metadata": {},
   "source": [
    "We are using ```PClass``` to help with determining a passengers socio-economic status. We can use this as a proxy with support of looking into the fare prices of each class."
   ]
  },
  {
   "cell_type": "code",
   "execution_count": 41,
   "metadata": {},
   "outputs": [
    {
     "data": {
      "text/plain": [
       "Pclass\n",
       "1    84.154687\n",
       "2    20.662183\n",
       "3    13.675550\n",
       "Name: Fare, dtype: float64"
      ]
     },
     "execution_count": 41,
     "metadata": {},
     "output_type": "execute_result"
    }
   ],
   "source": [
    "def fares_and_classes(dataset: pd.DataFrame): \n",
    "    return dataset.groupby('Pclass')['Fare'].mean()\n",
    "\n",
    "fares_and_classes(train)"
   ]
  },
  {
   "cell_type": "markdown",
   "metadata": {},
   "source": [
    "The average price of First class (```1```) is significantly more expensive compared to the average prices of middle (```2```) and lower class (```3```) fares."
   ]
  },
  {
   "cell_type": "code",
   "execution_count": 73,
   "metadata": {},
   "outputs": [
    {
     "data": {
      "image/png": "[encoded data removed]",
      "text/plain": [
       "<Figure size 1500x500 with 3 Axes>"
      ]
     },
     "metadata": {},
     "output_type": "display_data"
    },
    {
     "name": "stdout",
     "output_type": "stream",
     "text": [
      "Percentage of passengers that are in classes 1, 2, and 3 \n",
      " Pclass\n",
      "3    55.106622\n",
      "1    24.242424\n",
      "2    20.650954\n",
      "Name: count, dtype: float64\n",
      "Percentage of passengers that are in classes 1, 2, and 3 who survived \n",
      " Pclass\n",
      "1    39.766082\n",
      "3    34.795322\n",
      "2    25.438596\n",
      "Name: count, dtype: float64\n",
      "Percentage of passengers that are in classes 1, 2, and 3 who died\n",
      " Pclass\n",
      "3    67.759563\n",
      "2    17.668488\n",
      "1    14.571949\n",
      "Name: count, dtype: float64\n"
     ]
    }
   ],
   "source": [
    "def barplot_classes(dataset: pd.DataFrame):\n",
    "    passenger_count = dataset[\"Pclass\"].value_counts()\n",
    "    survivor_count = dataset[\"Pclass\"][dataset[\"Survived\"] == 1].value_counts()\n",
    "    deceased_count = dataset[\"Pclass\"][dataset[\"Survived\"] == 0].value_counts()\n",
    "\n",
    "    counts = [passenger_count, survivor_count, deceased_count]\n",
    "    titles = [\"Class Distribution (All Passengers)\", \n",
    "              \"Class Distribution (Survivors)\", \n",
    "              \"Class Distribution (Deceased)\"]\n",
    "\n",
    "    class_colors = {1: 'blue', 2: 'green', 3: 'orange'}\n",
    "\n",
    "    fig, ax = plt.subplots(1, 3, figsize=(15, 5))\n",
    "\n",
    "    for i, count in enumerate(counts):\n",
    "        bar = ax[i].bar(count.index, count.values, color=[class_colors.get(c, 'gray') for c in count.index])\n",
    "        ax[i].set_title(titles[i])\n",
    "        ax[i].set_xlabel('Class')\n",
    "        ax[i].set_ylabel('Count')\n",
    "        ax[i].set_xticks([1, 2, 3])\n",
    "        ax[i].set_xticklabels(['1', '2', '3'])\n",
    "        ax[i].bar_label(bar)\n",
    "\n",
    "    plt.tight_layout()\n",
    "    plt.show()\n",
    "\n",
    "    passenger_percent = (passenger_count / passenger_count.sum()) * 100\n",
    "    survivor_percent = (survivor_count / survivor_count.sum()) * 100\n",
    "    deceased_percent = (deceased_count / deceased_count.sum()) * 100\n",
    "\n",
    "    print(\"Percentage of passengers that are in classes 1, 2, and 3 \\n\", passenger_percent)\n",
    "    print(\"Percentage of passengers that are in classes 1, 2, and 3 who survived \\n\", survivor_percent)\n",
    "    print(\"Percentage of passengers that are in classes 1, 2, and 3 who died\\n\", deceased_percent)\n",
    "\n",
    "\n",
    "barplot_classes(train)\n"
   ]
  },
  {
   "cell_type": "markdown",
   "metadata": {},
   "source": [
    "___Observations___:\n",
    "- Majority of passengers belonged in the lower class ($491$)\n",
    "- Majority of survivors belonged in the upper class ($136$)\n",
    "- Majority of deceased passengers belonged in the lower class ($372$)\n",
    "- The difference of survivors between the upper class and the lower class is only $17$ passengers\n",
    "\n",
    "So far, it looks like my prediction is likely correct, but the distrubution of survivors between the lower and upper class makes it questionable. However, lets dive deeper into these proportions"
   ]
  },
  {
   "cell_type": "code",
   "execution_count": 71,
   "metadata": {},
   "outputs": [
    {
     "name": "stdout",
     "output_type": "stream",
     "text": [
      "Class 1 (216):\n",
      "  Survivor Percentage: 62.96%\n",
      "  Deceased Percentage: 37.04%\n",
      "Class 2 (184):\n",
      "  Survivor Percentage: 47.28%\n",
      "  Deceased Percentage: 52.72%\n",
      "Class 3 (491):\n",
      "  Survivor Percentage: 24.24%\n",
      "  Deceased Percentage: 75.76%\n"
     ]
    }
   ],
   "source": [
    "def class_proportions(dataset : pd.DataFrame): \n",
    "    passenger_count = dataset[\"Pclass\"].value_counts()\n",
    "    survivor_count = dataset[\"Pclass\"][dataset[\"Survived\"] == 1].value_counts()\n",
    "    deceased_count = dataset[\"Pclass\"][dataset[\"Survived\"] == 0].value_counts()\n",
    "    \n",
    "    for class_number in [1, 2, 3]:\n",
    "        total_passengers = passenger_count.get(class_number, 0)\n",
    "        survivors = survivor_count.get(class_number, 0)\n",
    "        deceased = deceased_count.get(class_number, 0)\n",
    "        print(f\"Class {class_number} ({total_passengers}):\")\n",
    "        print(f\"  Survivor Percentage: {round((survivors / total_passengers) * 100, 2) if total_passengers > 0 else 0}%\")\n",
    "        print(f\"  Deceased Percentage: {round((deceased / total_passengers) * 100, 2) if total_passengers > 0 else 0}%\")\n",
    "\n",
    "class_proportions(train)\n",
    "    "
   ]
  },
  {
   "cell_type": "markdown",
   "metadata": {},
   "source": [
    "___Stats___:\n",
    "- $62.96$% of passengers in class 1 survived \n",
    "- $75.76$% of passengers in class 3 died"
   ]
  },
  {
   "cell_type": "markdown",
   "metadata": {},
   "source": [
    "While the absolute survivor counts between Class 1 ($136$) and Class 3 ($119$) were close, the survival percentages tell us that:\n",
    "- A passenger in Class 1 was far more likely to survive ($62.96$%) compared to a passenger in Class 3 ($24.24$%).\n",
    "- This suggests that higher socio-economic status (Class 1) significantly increased the chances of survival."
   ]
  },
  {
   "cell_type": "markdown",
   "metadata": {},
   "source": [
    "Note: The higher survival rate could reflect on the passengers access to lifeboats and other resources. Class 1 may have had that advantage compared to class 2 and 3"
   ]
  },
  {
   "cell_type": "markdown",
   "metadata": {},
   "source": [
    "### 4.3 Prediction 3: _Younger passengers are more likely to survive than older passengers_"
   ]
  },
  {
   "cell_type": "markdown",
   "metadata": {},
   "source": [
    "Lets look at the overall age distribution"
   ]
  },
  {
   "cell_type": "code",
   "execution_count": 85,
   "metadata": {},
   "outputs": [
    {
     "data": {
      "image/png": "[encoded data removed]",
      "text/plain": [
       "<Figure size 1000x600 with 1 Axes>"
      ]
     },
     "metadata": {},
     "output_type": "display_data"
    }
   ],
   "source": [
    "def age_distribution(dataset: pd.DataFrame):\n",
    "    age_range = dataset[\"Age\"].dropna()\n",
    "    plt.figure(figsize=(10, 6))\n",
    "    plt.hist(age_range, bins='auto', color='skyblue', edgecolor='black', alpha=0.7)    \n",
    "    plt.title(\"Age Distribution of All Passengers\", fontsize=16)\n",
    "    plt.xlabel(\"Age(years)\", fontsize=12)\n",
    "    plt.ylabel(\"Frequency\", fontsize=12)\n",
    "\n",
    "age_distribution(train)"
   ]
  },
  {
   "cell_type": "markdown",
   "metadata": {},
   "source": [
    "___Some Observations___\n",
    "- Majority of passengers seem be in the age range between greater than 10 but less than 40. This can be categorized into the \"young adults\" and \"adults\"\n",
    "- Some outliers include passenegers in the range of 70 - 80 years\n",
    "- The distribution is postively skewed\n",
    "\n",
    "Lets dive in deeper"
   ]
  },
  {
   "cell_type": "code",
   "execution_count": 88,
   "metadata": {},
   "outputs": [
    {
     "data": {
      "image/png": "[encoded data removed]",
      "text/plain": [
       "<Figure size 1200x600 with 2 Axes>"
      ]
     },
     "metadata": {},
     "output_type": "display_data"
    }
   ],
   "source": [
    "def age_distribution_difference(dataset: pd.DataFrame):\n",
    "    survivors = dataset[dataset['Survived'] == 1].dropna(subset=['Age'])['Age']\n",
    "    deceased = dataset[dataset['Survived'] == 0].dropna(subset=['Age'])['Age']\n",
    "    \n",
    "\n",
    "    age_data = [survivors, deceased]\n",
    "    titles = [\"Age Distribution of Survivors\", \"Age Distribution of Deceased\"]\n",
    "    colors = ['green', 'maroon']\n",
    "\n",
    "    fig, ax = plt.subplots(1, 2, figsize=(12, 6))\n",
    "    for i, ax in enumerate(ax):\n",
    "        ax.hist(age_data[i], bins='auto', color=colors[i], edgecolor='black', alpha=0.7)\n",
    "        ax.set_title(titles[i], fontsize=14)\n",
    "        ax.set_xlabel('Age', fontsize=12)\n",
    "        ax.set_ylabel('Frequency', fontsize=12)\n",
    "    plt.tight_layout()\n",
    "    plt.show()\n",
    "\n",
    "age_distribution_difference(train)"
   ]
  }
 ],
 "metadata": {
  "kernelspec": {
   "display_name": "kaggle",
   "language": "python",
   "name": "python3"
  },
  "language_info": {
   "codemirror_mode": {
    "name": "ipython",
    "version": 3
   },
   "file_extension": ".py",
   "mimetype": "text/x-python",
   "name": "python",
   "nbconvert_exporter": "python",
   "pygments_lexer": "ipython3",
   "version": "3.12.2"
  }
 },
 "nbformat": 4,
 "nbformat_minor": 2
}
